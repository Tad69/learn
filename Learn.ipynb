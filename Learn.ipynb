{
  "nbformat": 4,
  "nbformat_minor": 0,
  "metadata": {
    "colab": {
      "provenance": []
    },
    "kernelspec": {
      "name": "python3",
      "display_name": "Python 3"
    },
    "language_info": {
      "name": "python"
    }
  },
  "cells": [
    {
      "cell_type": "markdown",
      "source": [
        "#heading\n"
      ],
      "metadata": {
        "id": "j3ar4znm1c_w"
      }
    },
    {
      "cell_type": "markdown",
      "source": [
        "what is functions\n",
        "\n",
        "     -> to perform task\n",
        "what are you doing ?\n",
        "\n",
        "      -> learning google collab\n"
      ],
      "metadata": {
        "id": "SDxhnrVs1BYM"
      }
    },
    {
      "cell_type": "code",
      "source": [],
      "metadata": {
        "id": "XvapTILw23WU"
      },
      "execution_count": null,
      "outputs": []
    }
  ]
}